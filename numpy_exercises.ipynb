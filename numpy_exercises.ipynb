{
 "cells": [
  {
   "cell_type": "code",
   "execution_count": 6,
   "id": "0d33b7d2-bd77-4f66-a79d-ab0686a6e2c0",
   "metadata": {
    "tags": []
   },
   "outputs": [],
   "source": [
    "import numpy as np\n",
    "a = np.array([4, 10, 12, 23, -2, -1, 0, 0, 0, -6, 3, -7])"
   ]
  },
  {
   "cell_type": "code",
   "execution_count": null,
   "id": "d0830b0a-f338-4c9a-8199-c93b087e6f5d",
   "metadata": {},
   "outputs": [],
   "source": [
    "# How many negative numbers are there?"
   ]
  },
  {
   "cell_type": "code",
   "execution_count": 19,
   "id": "e355645a-e553-4701-a631-754bf1232a52",
   "metadata": {
    "tags": []
   },
   "outputs": [
    {
     "data": {
      "text/plain": [
       "4"
      ]
     },
     "execution_count": 19,
     "metadata": {},
     "output_type": "execute_result"
    }
   ],
   "source": [
    "np.count_nonzero(a < 0)"
   ]
  },
  {
   "cell_type": "code",
   "execution_count": null,
   "id": "b4778415-bb09-4646-afcb-86437a152065",
   "metadata": {},
   "outputs": [],
   "source": [
    "# How many positive numbers are there?"
   ]
  },
  {
   "cell_type": "code",
   "execution_count": 20,
   "id": "caf4ff54-36b8-4ac4-afb6-11b0d11e2ecb",
   "metadata": {
    "tags": []
   },
   "outputs": [
    {
     "data": {
      "text/plain": [
       "5"
      ]
     },
     "execution_count": 20,
     "metadata": {},
     "output_type": "execute_result"
    }
   ],
   "source": [
    "np.count_nonzero(a > 0)"
   ]
  },
  {
   "cell_type": "code",
   "execution_count": null,
   "id": "386f98f8-558f-4e83-97e0-8486556f06a3",
   "metadata": {},
   "outputs": [],
   "source": [
    "# How many even positive numbers are there?"
   ]
  },
  {
   "cell_type": "code",
   "execution_count": 33,
   "id": "06b7d86f-32e6-4919-9ba6-1845dbf5d2c0",
   "metadata": {
    "tags": []
   },
   "outputs": [
    {
     "data": {
      "text/plain": [
       "3"
      ]
     },
     "execution_count": 33,
     "metadata": {},
     "output_type": "execute_result"
    }
   ],
   "source": [
    "np.count_nonzero((a > 0) & (a % 2 == 0))"
   ]
  },
  {
   "cell_type": "code",
   "execution_count": null,
   "id": "c438e23b-8a92-494f-bd0d-d0bade9892a6",
   "metadata": {},
   "outputs": [],
   "source": [
    "# If you were to add 3 to each data point, how many positive numbers would there be?"
   ]
  },
  {
   "cell_type": "code",
   "execution_count": 35,
   "id": "ef7f3b1e-14ca-4165-a20c-79f35a92401d",
   "metadata": {
    "tags": []
   },
   "outputs": [
    {
     "data": {
      "text/plain": [
       "10"
      ]
     },
     "execution_count": 35,
     "metadata": {},
     "output_type": "execute_result"
    }
   ],
   "source": [
    "np.count_nonzero(a+3 > 0)"
   ]
  },
  {
   "cell_type": "code",
   "execution_count": null,
   "id": "103355b0-dca6-4966-a7be-077f9e6ea430",
   "metadata": {},
   "outputs": [],
   "source": [
    "# If you squared each number, what would the new mean and standard deviation be?"
   ]
  },
  {
   "cell_type": "code",
   "execution_count": 43,
   "id": "29ea9cea-a916-4151-972e-2c0d8006dfae",
   "metadata": {
    "tags": []
   },
   "outputs": [
    {
     "name": "stdout",
     "output_type": "stream",
     "text": [
      "74.0\n",
      "144.0243035046516\n"
     ]
    }
   ],
   "source": [
    "print(np.mean(a**2))\n",
    "print(np.std(a**2))"
   ]
  },
  {
   "cell_type": "code",
   "execution_count": null,
   "id": "7c5c5884-6c32-4db2-9475-6cc235b22fc2",
   "metadata": {},
   "outputs": [],
   "source": [
    "# A common statistical operation on a dataset is centering. This means to adjust the data such that the mean of the data \n",
    "# is 0. This is done by subtracting the mean from each data point. Center the data set. See this link for more on centering."
   ]
  },
  {
   "cell_type": "code",
   "execution_count": 53,
   "id": "bdc99605-ab30-4e4d-ae7d-e5cacaac3490",
   "metadata": {
    "tags": []
   },
   "outputs": [
    {
     "data": {
      "text/plain": [
       "array([  1.,   7.,   9.,  20.,  -5.,  -4.,  -3.,  -3.,  -3.,  -9.,   0.,\n",
       "       -10.])"
      ]
     },
     "execution_count": 53,
     "metadata": {},
     "output_type": "execute_result"
    }
   ],
   "source": [
    "center=np.mean(a)\n",
    "a - center"
   ]
  },
  {
   "cell_type": "code",
   "execution_count": null,
   "id": "6680d3f4-7630-42b0-9b6f-bc660bfb5b2b",
   "metadata": {},
   "outputs": [],
   "source": [
    "# Calculate the z-score for each data point. Recall that the z-score is given by:"
   ]
  },
  {
   "cell_type": "code",
   "execution_count": 55,
   "id": "92dec4d0-f151-4927-a88d-e08548b27804",
   "metadata": {
    "tags": []
   },
   "outputs": [
    {
     "data": {
      "text/plain": [
       "0.4337036537547041"
      ]
     },
     "execution_count": 55,
     "metadata": {},
     "output_type": "execute_result"
    }
   ],
   "source": [
    "np.mean(a) - np.std(a) / np.pi"
   ]
  },
  {
   "cell_type": "code",
   "execution_count": null,
   "id": "14d676ff-926e-4dad-9e65-92596d9a11d6",
   "metadata": {},
   "outputs": [],
   "source": [
    "# Copy the setup and exercise directions from More Numpy Practice into your numpy_exercises.py and add your solutions."
   ]
  }
 ],
 "metadata": {
  "kernelspec": {
   "display_name": "Python 3 (ipykernel)",
   "language": "python",
   "name": "python3"
  },
  "language_info": {
   "codemirror_mode": {
    "name": "ipython",
    "version": 3
   },
   "file_extension": ".py",
   "mimetype": "text/x-python",
   "name": "python",
   "nbconvert_exporter": "python",
   "pygments_lexer": "ipython3",
   "version": "3.11.4"
  }
 },
 "nbformat": 4,
 "nbformat_minor": 5
}
